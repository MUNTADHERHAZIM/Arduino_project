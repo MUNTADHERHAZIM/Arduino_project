{
  "nbformat": 4,
  "nbformat_minor": 0,
  "metadata": {
    "colab": {
      "private_outputs": true,
      "provenance": [],
      "authorship_tag": "ABX9TyNRNlgyVsu+lxwOiNCgudj0",
      "include_colab_link": true
    },
    "kernelspec": {
      "name": "python3",
      "display_name": "Python 3"
    },
    "language_info": {
      "name": "python"
    }
  },
  "cells": [
    {
      "cell_type": "markdown",
      "metadata": {
        "id": "view-in-github",
        "colab_type": "text"
      },
      "source": [
        "<a href=\"https://colab.research.google.com/github/MUNTADHERHAZIM/Arduino_project/blob/main/Untitled5.ipynb\" target=\"_parent\"><img src=\"https://colab.research.google.com/assets/colab-badge.svg\" alt=\"Open In Colab\"/></a>"
      ]
    },
    {
      "cell_type": "code",
      "execution_count": null,
      "metadata": {
        "id": "slMmRgDAdzyk"
      },
      "outputs": [],
      "source": [
        "import hashlib\n",
        "import json\n",
        "\n",
        "def create_hash(text):\n",
        "    \"\"\"\n",
        "    # دالة لإنشاء تجزئة بسيطة للنص\n",
        "    \"\"\"\n",
        "    # تحويل النص إلى بايتس وإنشاء التجزئة\n",
        "    hash_object = hashlib.sha256(text.encode())\n",
        "    # الحصول على التمثيل السداسي عشري للتجزئة\n",
        "    return hash_object.hexdigest()\n",
        "\n",
        "def save_hash(text, hash_value):\n",
        "    \"\"\"\n",
        "    # حفظ النص والتجزئة في ملف\n",
        "    \"\"\"\n",
        "    data = {\n",
        "        \"original_text\": text,\n",
        "        \"hash_value\": hash_value\n",
        "    }\n",
        "    # حفظ البيانات في ملف\n",
        "    with open('hash_data.json', 'w', encoding='utf-8') as f:\n",
        "        json.dump(data, f, indent=4)\n",
        "\n",
        "# البرنامج الرئيسي\n",
        "text = input(\"أدخل النص المراد تجزئته: \")\n",
        "hash_result = create_hash(text)\n",
        "save_hash(text, hash_result)\n",
        "\n",
        "print(\"\\nالنص الأصلي:\", text)\n",
        "print(\"التجزئة:\", hash_result)\n",
        "print(\"تم حفظ البيانات في ملف 'hash_data.json'\")"
      ]
    },
    {
      "cell_type": "code",
      "source": [
        "import hashlib\n",
        "import json\n",
        "\n",
        "def create_hash(text):\n",
        "    \"\"\"\n",
        "    # دالة لإنشاء تجزئة للتحقق\n",
        "    \"\"\"\n",
        "    hash_object = hashlib.sha256(text.encode())\n",
        "    return hash_object.hexdigest()\n",
        "\n",
        "def verify_hash(text):\n",
        "    \"\"\"\n",
        "    # التحقق من تطابق التجزئة مع البيانات المحفوظة\n",
        "    \"\"\"\n",
        "    try:\n",
        "        # قراءة البيانات المحفوظة\n",
        "        with open('hash_data.json', 'r', encoding='utf-8') as f:\n",
        "            stored_data = json.load(f)\n",
        "\n",
        "        # إنشاء تجزئة جديدة للمقارنة\n",
        "        new_hash = create_hash(text)\n",
        "\n",
        "        # مقارنة التجزئة الجديدة مع المحفوظة\n",
        "        return new_hash == stored_data['hash_value']\n",
        "    except FileNotFoundError:\n",
        "        return \"لم يتم العثور على ملف البيانات\"\n",
        "\n",
        "# البرنامج الرئيسي\n",
        "verify_text = input(\"أدخل النص للتحقق: \")\n",
        "result = verify_hash(verify_text)\n",
        "\n",
        "print(\"\\nنتيجة التحقق:\")\n",
        "print(\"متطابق!\" if result == True else \"غير متطابق!\")"
      ],
      "metadata": {
        "id": "m2FTe7jjeBUy"
      },
      "execution_count": null,
      "outputs": []
    },
    {
      "cell_type": "code",
      "source": [
        "import hashlib\n",
        "\n",
        "# Create hash of \"hello 334\" to verify\n",
        "text = \"ahmad122\"\n",
        "hash_object = hashlib.sha256(text.encode())\n",
        "new_hash = hash_object.hexdigest()\n",
        "\n",
        "# Compare with stored hash\n",
        "stored_hash = \"a3c336e7ae19b50f5e314dd9ba3144d632613091f46743b969da4465e19f0008\"\n",
        "if new_hash == stored_hash:\n",
        "    print(\"Text Right!\")\n",
        "else:\n",
        "    print(\"Text does not Right!\")\n",
        "print(\"----------------------------------------------\")\n",
        "print(\"text = \", text)\n",
        "print(\"----------------------------------------------\")\n",
        "print(\"stored_hash = \", stored_hash)"
      ],
      "metadata": {
        "id": "HoBuOfIBeJ3K"
      },
      "execution_count": null,
      "outputs": []
    },
    {
      "cell_type": "code",
      "source": [
        "import hashlib\n",
        "\n",
        "def verify_text(text_to_check):\n",
        "    # Create hash of the text we want to check\n",
        "    hash_object = hashlib.sha256(text_to_check.encode())\n",
        "    new_hash = hash_object.hexdigest()\n",
        "\n",
        "    # The original hash we're comparing against\n",
        "    original_hash = \"a3c336e7ae19b50f5e314dd9ba3144d632613091f46743b969da4465e19f0008\"\n",
        "\n",
        "    # Compare the hashes\n",
        "    if new_hash == original_hash:\n",
        "        print(\"Right! The text Right the original\")\n",
        "    else:\n",
        "        print(\"No Right! This is not the original text\")\n",
        "\n",
        "# Test it\n",
        "print(\"----------------------------------------------\")\n",
        "verify_text(\"ahmad122\")  # This will show \"Right!\"\n",
        "print(\"----------------------------------------------\")\n",
        "verify_text(\"wrong text\") # This will show \"No Right\""
      ],
      "metadata": {
        "id": "YicZmpPuekby"
      },
      "execution_count": null,
      "outputs": []
    }
  ]
}